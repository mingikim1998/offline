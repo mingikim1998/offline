{
 "cells": [
  {
   "cell_type": "code",
   "execution_count": null,
   "metadata": {},
   "outputs": [],
   "source": [
    "#- 문제 2 -#\n",
    "from PIL import Image\n",
    "\n",
    "# 연습용 파일 경로\n",
    "image_path = 'C:/Users/minho/aiffel/pics/dole.jpg'\n",
    "\n",
    "# 이미지 열기\n",
    "newfoto = Image.open(image_path)\n",
    "newfoto.show()\n",
    "\n",
    "# width와 height 출력\n",
    "print(newfoto.width)\n",
    "print(newfoto.height)\n",
    "\n",
    "# JPG 파일 형식으로 저장해보기\n",
    "saveaddress = 'C:/Users/minho/aiffel/pics/'\n",
    "newfoto = image.convert('RGB')\n",
    "newfoto.save(saveaddress + \"newfoto.jpg\")"
   ]
  },
  {
   "cell_type": "code",
   "execution_count": 6,
   "metadata": {},
   "outputs": [
    {
     "data": {
      "text/plain": [
       "dict"
      ]
     },
     "execution_count": 6,
     "metadata": {},
     "output_type": "execute_result"
    }
   ],
   "source": [
    "import pickle\n",
    "import os\n",
    "\n",
    "dir_path = 'C:/Users/minho/aiffel/pics/cifar-100-python/'\n",
    "train_file_path = os.path.join(dir_path, 'train')\n",
    "\n",
    "with open(train_file_path, 'rb') as f:\n",
    "    train = pickle.load(f, encoding='bytes')\n",
    "\n",
    "type(train)"
   ]
  },
  {
   "cell_type": "code",
   "execution_count": 7,
   "metadata": {},
   "outputs": [
    {
     "data": {
      "text/plain": [
       "dict_keys([b'filenames', b'batch_label', b'fine_labels', b'coarse_labels', b'data'])"
      ]
     },
     "execution_count": 7,
     "metadata": {},
     "output_type": "execute_result"
    }
   ],
   "source": [
    "train.keys()"
   ]
  },
  {
   "cell_type": "code",
   "execution_count": 8,
   "metadata": {},
   "outputs": [
    {
     "data": {
      "text/plain": [
       "list"
      ]
     },
     "execution_count": 8,
     "metadata": {},
     "output_type": "execute_result"
    }
   ],
   "source": [
    "type(train[b'filenames'])"
   ]
  },
  {
   "cell_type": "code",
   "execution_count": 9,
   "metadata": {},
   "outputs": [
    {
     "data": {
      "text/plain": [
       "[b'bos_taurus_s_000507.png',\n",
       " b'stegosaurus_s_000125.png',\n",
       " b'mcintosh_s_000643.png',\n",
       " b'altar_boy_s_001435.png',\n",
       " b'cichlid_s_000031.png']"
      ]
     },
     "execution_count": 9,
     "metadata": {},
     "output_type": "execute_result"
    }
   ],
   "source": [
    "train[b'filenames'][0:5]"
   ]
  },
  {
   "cell_type": "code",
   "execution_count": 10,
   "metadata": {},
   "outputs": [
    {
     "data": {
      "text/plain": [
       "array([[255, 255, 255, ...,  10,  59,  79],\n",
       "       [255, 253, 253, ..., 253, 253, 255],\n",
       "       [250, 248, 247, ..., 194, 207, 228],\n",
       "       [124, 131, 135, ..., 232, 236, 231],\n",
       "       [ 43,  32,  87, ...,  60,  29,  37]], dtype=uint8)"
      ]
     },
     "execution_count": 10,
     "metadata": {},
     "output_type": "execute_result"
    }
   ],
   "source": [
    "train[b'data'][0:5]"
   ]
  },
  {
   "cell_type": "code",
   "execution_count": 11,
   "metadata": {},
   "outputs": [
    {
     "data": {
      "text/plain": [
       "(3072,)"
      ]
     },
     "execution_count": 11,
     "metadata": {},
     "output_type": "execute_result"
    }
   ],
   "source": [
    "train[b'data'][0].shape"
   ]
  },
  {
   "cell_type": "code",
   "execution_count": null,
   "metadata": {},
   "outputs": [],
   "source": [
    "image_data = train[b'data'][0].reshape([32, 32, 3], order='F')   # order를 주의하세요!!\n",
    "image = Image.fromarray(image_data)    # Pillow를 사용하여 Numpy 배열을 Image객체로 만들어서\n",
    "image.show()    # 화면에 띄워 봅시다!!"
   ]
  },
  {
   "cell_type": "code",
   "execution_count": 12,
   "metadata": {},
   "outputs": [],
   "source": [
    "image_data = train[b'data'][0].reshape([32, 32, 3], order='F')   # order를 주의하세요!!\n",
    "image = Image.fromarray(image_data)    # Pillow를 사용하여 Numpy 배열을 Image객체로 만들어서\n",
    "image.show()    # 화면에 띄워 봅시다!!"
   ]
  },
  {
   "cell_type": "code",
   "execution_count": 13,
   "metadata": {},
   "outputs": [
    {
     "ename": "SyntaxError",
     "evalue": "unexpected EOF while parsing (<ipython-input-13-f9d3034add17>, line 19)",
     "output_type": "error",
     "traceback": [
      "\u001b[1;36m  File \u001b[1;32m\"<ipython-input-13-f9d3034add17>\"\u001b[1;36m, line \u001b[1;32m19\u001b[0m\n\u001b[1;33m    # [[YOUR CODE]]\u001b[0m\n\u001b[1;37m                   ^\u001b[0m\n\u001b[1;31mSyntaxError\u001b[0m\u001b[1;31m:\u001b[0m unexpected EOF while parsing\n"
     ]
    }
   ],
   "source": [
    "import os\n",
    "import pickle\n",
    "from PIL import Image\n",
    "import numpy\n",
    "from tqdm import tqdm\n",
    "\n",
    "dir_path = os.getenv('HOME')+'/aiffel/python_image_proc/cifar-100-python'\n",
    "train_file_path = os.path.join(dir_path, 'train')\n",
    "\n",
    "# image를 저장할 cifar-100-python의 하위 디렉토리(images)를 생성합니다. \n",
    "images_dir_path = os.path.join(dir_path, 'images')\n",
    "if not os.path.exists(images_dir_path):\n",
    "    os.mkdir(images_dir_path)  # images 디렉토리 생성\n",
    "\n",
    "# 32X32의 이미지 파일 50000개를 생성합니다. \n",
    "with open(train_file_path, 'rb') as f:\n",
    "    train = pickle.load(f, encoding='bytes')\n",
    "    for i in tqdm(range(len(train[b'filenames']))):\n",
    "        # [[YOUR CODE]]"
   ]
  },
  {
   "cell_type": "code",
   "execution_count": null,
   "metadata": {},
   "outputs": [],
   "source": []
  }
 ],
 "metadata": {
  "kernelspec": {
   "display_name": "Python 3",
   "language": "python",
   "name": "python3"
  },
  "language_info": {
   "codemirror_mode": {
    "name": "ipython",
    "version": 3
   },
   "file_extension": ".py",
   "mimetype": "text/x-python",
   "name": "python",
   "nbconvert_exporter": "python",
   "pygments_lexer": "ipython3",
   "version": "3.8.3"
  }
 },
 "nbformat": 4,
 "nbformat_minor": 4
}
