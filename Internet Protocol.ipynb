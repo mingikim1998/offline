{
 "cells": [
  {
   "cell_type": "code",
   "execution_count": 1,
   "metadata": {},
   "outputs": [
    {
     "name": "stdout",
     "output_type": "stream",
     "text": [
      "Received b'HTTP/1.0 404 Not Found\\r\\nContent-Type: text/html; charset=UTF-8\\r\\nDate: Sat, 24 Oct 2020 06:07:01 GMT\\r\\nServer: gws\\r\\nContent-Length: 1561\\r\\nX-XSS-Protection: 0\\r\\nX-Frame-Options: SAMEORIGIN\\r\\n\\r\\n<!DOCTYPE html>\\n<html lang=en>\\n  <meta charset=utf-8>\\n  <meta name=viewport content=\"initial-scale=1, minimum-scale=1, width=device-width\">\\n  <title>Error 404 (Not Found)!!1</title>\\n  <style>\\n    *{margin:0;padding:0}html,code{font:15px/22px arial,sans-serif}html{background:#fff;color:#222;padding:15px}body{margin:7% auto 0;max-width:390px;min-height:180px;padding:30px 0 15px}* > body{background:url(//www.google.com/images/errors/robot.png) 100% 5px no-repeat;padding-right:205px}p{margin:11px 0 22px;overflow:hidden}ins{color:#777;text-decoration:none}a img{border:0}@media screen and (max-width:772px){body{background:none;margin-top:0;max-width:none;padding-right:0}}#logo{background:url(//www.google.com/images/branding/googlelogo/1x/googlelogo_color_150x54dp.png) no-repeat;margin-left:-5px}@media only screen and (min-resoluti'\n"
     ]
    }
   ],
   "source": [
    "import socket\n",
    "with socket.socket(socket.AF_INET, socket.SOCK_STREAM) as s:     # 소켓 s를 하나 열어서\n",
    "    s.connect(('www.google.com', 80))          # www.google.com 이라는 호스트의 80번 포트에 접속합니다. \n",
    "    cmd = 'GET http://www.google.com HTTP/1.0\\r\\n\\r\\n'.encode() \n",
    "    s.send(cmd)                 # 접속이 되면 GET xxxxx 형식의 HTTP 프로토콜로 된 명령을 전송합니다. \n",
    "    data = s.recv(1024)    # 그리고 1024바이트만큼의 HTTP 응답을 수신합니다. \n",
    "print('Received', data)  # 어떤 응답을 수신했는지 볼까요?"
   ]
  },
  {
   "cell_type": "markdown",
   "metadata": {},
   "source": [
    "#### HTTP의 메시지는 request/status line과 header 그리고 body로 이루어져있는데요,\n",
    "#### 요청 내용을 담은 request line은 요청 메소드와 타겟주소를 포함합니다.\n",
    "\n",
    "#### Request Method (요청 메소드)\n",
    "\n",
    " - GET: read, 정보를 요청\n",
    " - HEAD: 헤더 정보만 요청\n",
    " - POST: create, 정보를 생성, 변형 할때 사용\n",
    " - PUT: update, 정보를 수정\n",
    " - DELETE: delete, 정보를 삭제\n",
    " - OPTIONS : 사용가능한 메소드 확인"
   ]
  },
  {
   "cell_type": "markdown",
   "metadata": {},
   "source": [
    "### Response Code (응답 코드)\n",
    "\n",
    "- 1xx: 조건부 응답\n",
    "- 2xx: 성공\n",
    "- 3xx: 리다이렉션 완료\n",
    "- 4xx: 요청 오류(클라이언트에 문제가 있다는 뜻!)\n",
    "- 5xx: 서버 오류(서버에 문제가 있다는 뜻!)\n",
    "#### 많이 사용하는 응답 코드\n",
    "\n",
    "- 200: 서버가 클라이언트 요청을 성공적으로 처리, 웹 페이지에서는 페이지 요청이 정상적으로 완료되면 반환\n",
    "\n",
    "- 404: 찾을 수 없음. 존재하지 않는 URL을 요청하여 페이지를 접속 할 수 없을 때 반환하는 응답 코드."
   ]
  },
  {
   "cell_type": "code",
   "execution_count": null,
   "metadata": {},
   "outputs": [],
   "source": []
  }
 ],
 "metadata": {
  "kernelspec": {
   "display_name": "Python 3",
   "language": "python",
   "name": "python3"
  },
  "language_info": {
   "codemirror_mode": {
    "name": "ipython",
    "version": 3
   },
   "file_extension": ".py",
   "mimetype": "text/x-python",
   "name": "python",
   "nbconvert_exporter": "python",
   "pygments_lexer": "ipython3",
   "version": "3.8.3"
  }
 },
 "nbformat": 4,
 "nbformat_minor": 4
}
