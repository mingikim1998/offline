{
 "cells": [
  {
   "cell_type": "code",
   "execution_count": 1,
   "metadata": {},
   "outputs": [
    {
     "name": "stdout",
     "output_type": "stream",
     "text": [
      "1=1\n"
     ]
    }
   ],
   "source": [
    "import matplotlib.pyplot as plt\n",
    "from matplotlib_venn import venn2, venn2_circles, venn3, venn3_circles\n",
    "\n",
    "print('1=1')"
   ]
  },
  {
   "cell_type": "code",
   "execution_count": null,
   "metadata": {},
   "outputs": [],
   "source": [
    "fig = plt.figure()\n",
    "fig.set_size_inches(10,8)\n",
    "\n",
    "Num_Set_A = 103            # A 집합의 원소 개수입니다. 마음대로 바꾸실 수 있어요.\n",
    "Num_Set_B = 77            # B 집합의 원소 개수입니다. 마음대로 바꾸실 수 있어요.\n",
    "Num_Set_A_and_B = 5    # A와 B의 교집합의 원소 개수입니다. 마음대로 바꾸실 수 있어요.\n",
    "\n",
    "v = venn2(subsets={'10': Num_Set_A, '01': Num_Set_B, '11': Num_Set_A_and_B}, set_labels = ('A', 'B')) \n",
    "c = venn2_circles(subsets=(Num_Set_A, Num_Set_B, Num_Set_A_and_B), linestyle='solid') \n",
    "v.get_patch_by_id('10').set_alpha(0.8) \n",
    "\n",
    "v.get_patch_by_id('10').set_color('w') \n",
    "v.get_patch_by_id('01').set_color('w') \n",
    "v.get_patch_by_id('11').set_color('yellow') \n",
    "\n",
    "v.get_label_by_id('10').set_text(' ') \n",
    "v.get_label_by_id('01').set_text(' ') \n",
    "v.get_label_by_id('11').set_text(' ') \n",
    "\n",
    "v.get_label_by_id('A').set_text('Set A') \n",
    "v.get_label_by_id('B').set_text('Set B') \n",
    "plt.gca().set_facecolor(\"white\")\n",
    "plt.gca().set_axis_on()"
   ]
  }
 ],
 "metadata": {
  "kernelspec": {
   "display_name": "Python 3",
   "language": "python",
   "name": "python3"
  },
  "language_info": {
   "codemirror_mode": {
    "name": "ipython",
    "version": 3
   },
   "file_extension": ".py",
   "mimetype": "text/x-python",
   "name": "python",
   "nbconvert_exporter": "python",
   "pygments_lexer": "ipython3",
   "version": "3.8.3"
  }
 },
 "nbformat": 4,
 "nbformat_minor": 4
}
